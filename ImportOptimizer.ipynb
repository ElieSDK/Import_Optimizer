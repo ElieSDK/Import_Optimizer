{
 "cells": [
  {
   "cell_type": "code",
   "execution_count": 1,
   "id": "17d525bb",
   "metadata": {},
   "outputs": [],
   "source": [
    "from scipy.optimize import minimize"
   ]
  },
  {
   "cell_type": "markdown",
   "id": "3f1799b2",
   "metadata": {},
   "source": [
    "# 1. Inputs"
   ]
  },
  {
   "cell_type": "code",
   "execution_count": 6,
   "id": "85a86a59",
   "metadata": {},
   "outputs": [],
   "source": [
    "#our budget for the purchase\n",
    "budget = 10000\n",
    "\n",
    "#size of a container in m3\n",
    "total_size = 50\n",
    "\n",
    "#price of goods\n",
    "g1_price = 300\n",
    "g2_price = 600\n",
    "\n",
    "#size of goods\n",
    "g1_size = 2\n",
    "g2_size = 1\n",
    "\n",
    "#profit of each goods\n",
    "g1_profit = 1200\n",
    "g2_profit = 1000"
   ]
  },
  {
   "cell_type": "markdown",
   "id": "2522f92d",
   "metadata": {},
   "source": [
    "# 2. Objective and constraints"
   ]
  },
  {
   "cell_type": "code",
   "execution_count": 7,
   "id": "6684afb1",
   "metadata": {},
   "outputs": [],
   "source": [
    "def objective(x):\n",
    "    g1, g2 = x\n",
    "    return g1*g1_profit + g2*g2_profit\n",
    "\n",
    "def constraint1(x):\n",
    "    g1, g2 = x\n",
    "    return -(g1*g1_price + g2*g2_price) + budget\n",
    "\n",
    "def constraint2(x):\n",
    "    g1, g2 = x\n",
    "    return -(g1*g1_size + g2*g2_size) + total_size"
   ]
  },
  {
   "cell_type": "markdown",
   "id": "d63ff5ee",
   "metadata": {},
   "source": [
    "# 3. Initial guess"
   ]
  },
  {
   "cell_type": "code",
   "execution_count": 8,
   "id": "df33c889",
   "metadata": {},
   "outputs": [
    {
     "name": "stdout",
     "output_type": "stream",
     "text": [
      "-2200\n"
     ]
    }
   ],
   "source": [
    "x0 = [1,1]\n",
    "print(-objective(x0))"
   ]
  },
  {
   "cell_type": "code",
   "execution_count": 10,
   "id": "80224370",
   "metadata": {},
   "outputs": [],
   "source": [
    "cons1 = {'type': 'ineq', 'fun': constraint1}\n",
    "cons2 = {'type': 'ineq', 'fun': constraint2}\n",
    "cons = (cons1, cons2)"
   ]
  },
  {
   "cell_type": "markdown",
   "id": "5fa4c9ea",
   "metadata": {},
   "source": [
    "# 4. Solution"
   ]
  },
  {
   "cell_type": "code",
   "execution_count": 11,
   "id": "ba635696",
   "metadata": {
    "scrolled": true
   },
   "outputs": [
    {
     "name": "stdout",
     "output_type": "stream",
     "text": [
      "     fun: -32222.222047310468\n",
      "     jac: array([-1200., -1000.])\n",
      " message: 'Optimization terminated successfully'\n",
      "    nfev: 6\n",
      "     nit: 6\n",
      "    njev: 2\n",
      "  status: 0\n",
      " success: True\n",
      "       x: array([22.22222214,  5.55555548])\n"
     ]
    }
   ],
   "source": [
    "sol = minimize(lambda x: -1.0*objective(x),x0, method='SLSQP', constraints=cons)\n",
    "\n",
    "print(sol)"
   ]
  },
  {
   "cell_type": "markdown",
   "id": "9a601370",
   "metadata": {},
   "source": [
    "Conclusion: 22.2 good n°1 and 5.5 good n°2 will give a gain of 32,222.22."
   ]
  }
 ],
 "metadata": {
  "kernelspec": {
   "display_name": "Python 3",
   "language": "python",
   "name": "python3"
  },
  "language_info": {
   "codemirror_mode": {
    "name": "ipython",
    "version": 3
   },
   "file_extension": ".py",
   "mimetype": "text/x-python",
   "name": "python",
   "nbconvert_exporter": "python",
   "pygments_lexer": "ipython3",
   "version": "3.8.8"
  }
 },
 "nbformat": 4,
 "nbformat_minor": 5
}
